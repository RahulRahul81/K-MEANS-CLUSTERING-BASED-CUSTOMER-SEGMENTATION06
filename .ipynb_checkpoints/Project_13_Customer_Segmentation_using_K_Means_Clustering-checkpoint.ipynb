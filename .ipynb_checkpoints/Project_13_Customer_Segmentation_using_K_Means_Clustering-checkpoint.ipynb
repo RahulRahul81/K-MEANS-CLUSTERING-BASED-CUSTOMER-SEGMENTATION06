{
 "cells": [
  {
   "cell_type": "markdown",
   "metadata": {
    "id": "MTIXrkCYKtlu"
   },
   "source": [
    "Importing the Dependencies"
   ]
  },
  {
   "cell_type": "code",
   "execution_count": 44,
   "metadata": {
    "id": "mL7HLYQFXW-c"
   },
   "outputs": [],
   "source": [
    "import numpy as np\n",
    "import pandas as pd\n",
    "import matplotlib.pyplot as plt\n",
    "import seaborn as sns\n",
    "from sklearn.cluster import KMeans"
   ]
  },
  {
   "cell_type": "markdown",
   "metadata": {
    "id": "KigjC6mBLJN3"
   },
   "source": [
    "Data Collection & Analysis"
   ]
  },
  {
   "cell_type": "code",
   "execution_count": 45,
   "metadata": {
    "id": "gTSFo2LiLIav"
   },
   "outputs": [],
   "source": [
    "# loading the data from csv file to a Pandas DataFrame\n",
    "customer_data = pd.read_csv('D:\\Programming\\python\\customers.csv')"
   ]
  },
  {
   "cell_type": "code",
   "execution_count": 46,
   "metadata": {
    "colab": {
     "base_uri": "https://localhost:8080/",
     "height": 196
    },
    "id": "mbtjztN3Lhcu",
    "outputId": "4b5e3ec9-1784-4918-bece-7616a2305e4b"
   },
   "outputs": [
    {
     "data": {
      "text/html": [
       "<div>\n",
       "<style scoped>\n",
       "    .dataframe tbody tr th:only-of-type {\n",
       "        vertical-align: middle;\n",
       "    }\n",
       "\n",
       "    .dataframe tbody tr th {\n",
       "        vertical-align: top;\n",
       "    }\n",
       "\n",
       "    .dataframe thead th {\n",
       "        text-align: right;\n",
       "    }\n",
       "</style>\n",
       "<table border=\"1\" class=\"dataframe\">\n",
       "  <thead>\n",
       "    <tr style=\"text-align: right;\">\n",
       "      <th></th>\n",
       "      <th>Age</th>\n",
       "      <th>Purchase Frequency</th>\n",
       "      <th>Average Amount Spent</th>\n",
       "      <th>Spending Score</th>\n",
       "    </tr>\n",
       "  </thead>\n",
       "  <tbody>\n",
       "    <tr>\n",
       "      <th>0</th>\n",
       "      <td>55</td>\n",
       "      <td>3</td>\n",
       "      <td>24637.0</td>\n",
       "      <td>73.911</td>\n",
       "    </tr>\n",
       "    <tr>\n",
       "      <th>1</th>\n",
       "      <td>65</td>\n",
       "      <td>3</td>\n",
       "      <td>76848.0</td>\n",
       "      <td>230.544</td>\n",
       "    </tr>\n",
       "    <tr>\n",
       "      <th>2</th>\n",
       "      <td>80</td>\n",
       "      <td>6</td>\n",
       "      <td>30000.0</td>\n",
       "      <td>180.000</td>\n",
       "    </tr>\n",
       "    <tr>\n",
       "      <th>3</th>\n",
       "      <td>48</td>\n",
       "      <td>3</td>\n",
       "      <td>43431.0</td>\n",
       "      <td>130.293</td>\n",
       "    </tr>\n",
       "    <tr>\n",
       "      <th>4</th>\n",
       "      <td>25</td>\n",
       "      <td>5</td>\n",
       "      <td>25000.0</td>\n",
       "      <td>80.000</td>\n",
       "    </tr>\n",
       "  </tbody>\n",
       "</table>\n",
       "</div>"
      ],
      "text/plain": [
       "   Age  Purchase Frequency  Average Amount Spent  Spending Score\n",
       "0   55                   3               24637.0          73.911\n",
       "1   65                   3               76848.0         230.544\n",
       "2   80                   6               30000.0         180.000\n",
       "3   48                   3               43431.0         130.293\n",
       "4   25                   5               25000.0          80.000"
      ]
     },
     "execution_count": 46,
     "metadata": {},
     "output_type": "execute_result"
    }
   ],
   "source": [
    "# first 5 rows in the dataframe\n",
    "customer_data.head()"
   ]
  },
  {
   "cell_type": "code",
   "execution_count": 47,
   "metadata": {
    "colab": {
     "base_uri": "https://localhost:8080/"
    },
    "id": "-NWZTDNRLofr",
    "outputId": "5cdb9e6b-20f2-4676-da6c-014dc7b3a38e"
   },
   "outputs": [
    {
     "data": {
      "text/plain": [
       "(308, 4)"
      ]
     },
     "execution_count": 47,
     "metadata": {},
     "output_type": "execute_result"
    }
   ],
   "source": [
    "# finding the number of rows and columns\n",
    "customer_data.shape"
   ]
  },
  {
   "cell_type": "code",
   "execution_count": 48,
   "metadata": {
    "colab": {
     "base_uri": "https://localhost:8080/"
    },
    "id": "K5qKxwHiL56b",
    "outputId": "ce5ec885-f107-493a-ecb7-42170d1fd7d5"
   },
   "outputs": [
    {
     "name": "stdout",
     "output_type": "stream",
     "text": [
      "<class 'pandas.core.frame.DataFrame'>\n",
      "RangeIndex: 308 entries, 0 to 307\n",
      "Data columns (total 4 columns):\n",
      " #   Column                Non-Null Count  Dtype  \n",
      "---  ------                --------------  -----  \n",
      " 0   Age                   308 non-null    int64  \n",
      " 1   Purchase Frequency    308 non-null    int64  \n",
      " 2   Average Amount Spent  308 non-null    float64\n",
      " 3   Spending Score        308 non-null    float64\n",
      "dtypes: float64(2), int64(2)\n",
      "memory usage: 9.8 KB\n"
     ]
    }
   ],
   "source": [
    "# getting some informations about the dataset\n",
    "customer_data.info()"
   ]
  },
  {
   "cell_type": "code",
   "execution_count": 49,
   "metadata": {
    "colab": {
     "base_uri": "https://localhost:8080/"
    },
    "id": "vBtCZvyFMI1O",
    "outputId": "d8a19c04-d0d1-4fb6-ea71-53e2137e0307"
   },
   "outputs": [
    {
     "data": {
      "text/plain": [
       "Age                     0\n",
       "Purchase Frequency      0\n",
       "Average Amount Spent    0\n",
       "Spending Score          0\n",
       "dtype: int64"
      ]
     },
     "execution_count": 49,
     "metadata": {},
     "output_type": "execute_result"
    }
   ],
   "source": [
    "# checking for missing values\n",
    "customer_data.isnull().sum()"
   ]
  },
  {
   "cell_type": "markdown",
   "metadata": {
    "id": "mDtt8uP0MoiH"
   },
   "source": [
    "Choosing the Annual Income Column & Spending Score column"
   ]
  },
  {
   "cell_type": "code",
   "execution_count": 50,
   "metadata": {
    "id": "-GZMLhdvMXv5"
   },
   "outputs": [],
   "source": [
    "X = customer_data.iloc[:,[2,3]].values"
   ]
  },
  {
   "cell_type": "code",
   "execution_count": 51,
   "metadata": {
    "colab": {
     "base_uri": "https://localhost:8080/"
    },
    "id": "5vpIqX5qNHEB",
    "outputId": "ff589c21-c7ca-4c37-da4a-59ccddfbb828"
   },
   "outputs": [
    {
     "name": "stdout",
     "output_type": "stream",
     "text": [
      "[[2.46370e+04 7.39110e+01]\n",
      " [7.68480e+04 2.30544e+02]\n",
      " [3.00000e+04 1.80000e+02]\n",
      " [4.34310e+04 1.30293e+02]\n",
      " [2.50000e+04 8.00000e+01]\n",
      " [1.50000e+04 5.00000e+01]\n",
      " [1.80000e+04 6.00000e+01]\n",
      " [5.00000e+04 9.50000e+01]\n",
      " [3.00000e+04 8.50000e+01]\n",
      " [2.00000e+04 7.00000e+01]\n",
      " [2.20000e+04 6.50000e+01]\n",
      " [1.50000e+04 4.50000e+01]\n",
      " [1.70000e+04 5.50000e+01]\n",
      " [4.00000e+04 9.00000e+01]\n",
      " [4.30000e+04 4.30000e+01]\n",
      " [4.30000e+04 5.40000e+01]\n",
      " [8.80000e+04 8.80000e+01]\n",
      " [6.00000e+03 3.00000e+01]\n",
      " [5.73560e+04 1.72068e+05]\n",
      " [2.00000e+04 4.00000e+04]\n",
      " [5.74730e+04 2.87365e+05]\n",
      " [3.58680e+04 2.15208e+05]\n",
      " [2.50000e+04 7.50000e+04]\n",
      " [1.50000e+04 6.05000e+01]\n",
      " [2.50000e+04 8.00000e+01]\n",
      " [3.00000e+04 9.00000e+01]\n",
      " [2.00000e+04 7.00000e+01]\n",
      " [4.50000e+04 1.20000e+02]\n",
      " [1.80000e+04 6.50000e+01]\n",
      " [2.20000e+04 7.50000e+01]\n",
      " [2.80000e+04 8.50000e+01]\n",
      " [3.50000e+04 1.00000e+02]\n",
      " [2.10000e+04 6.80000e+01]\n",
      " [3.30000e+04 9.50000e+01]\n",
      " [4.00000e+04 1.10000e+02]\n",
      " [6.00000e+04 1.50000e+02]\n",
      " [5.00000e+04 1.30000e+02]\n",
      " [7.00000e+04 1.40000e+02]\n",
      " [8.00000e+04 1.60000e+02]\n",
      " [1.20000e+04 4.50000e+01]\n",
      " [1.70000e+04 5.50000e+01]\n",
      " [1.90000e+04 7.00000e+01]\n",
      " [2.60000e+04 8.50000e+01]\n",
      " [3.00000e+04 9.50000e+01]\n",
      " [2.20000e+04 7.50000e+01]\n",
      " [3.20000e+04 1.10000e+02]\n",
      " [2.80000e+04 9.00000e+01]\n",
      " [2.50000e+04 8.00000e+01]\n",
      " [2.40000e+04 6.50000e+01]\n",
      " [1.90000e+04 5.00000e+01]\n",
      " [3.60000e+04 1.05000e+02]\n",
      " [3.10000e+04 9.50000e+01]\n",
      " [3.30000e+04 1.15000e+02]\n",
      " [3.70000e+04 1.20000e+02]\n",
      " [1.30000e+04 5.00000e+01]\n",
      " [2.10000e+04 7.00000e+01]\n",
      " [2.40000e+04 8.50000e+01]\n",
      " [3.10000e+04 9.00000e+01]\n",
      " [1.80000e+04 6.00000e+01]\n",
      " [3.00000e+04 1.00000e+02]\n",
      " [2.50000e+04 8.00000e+01]\n",
      " [2.90000e+04 7.00000e+01]\n",
      " [3.30000e+04 9.50000e+01]\n",
      " [3.20000e+04 9.00000e+01]\n",
      " [2.00000e+04 5.50000e+01]\n",
      " [3.40000e+04 1.00000e+02]\n",
      " [3.10000e+04 8.50000e+01]\n",
      " [3.80000e+04 1.15000e+02]\n",
      " [1.60000e+04 6.50000e+01]\n",
      " [1.40000e+04 5.80000e+01]\n",
      " [2.20000e+04 7.20000e+01]\n",
      " [2.70000e+04 8.80000e+01]\n",
      " [3.10000e+04 9.20000e+01]\n",
      " [3.40000e+04 1.10000e+02]\n",
      " [2.60000e+04 7.70000e+01]\n",
      " [2.80000e+04 8.20000e+01]\n",
      " [3.00000e+04 9.60000e+01]\n",
      " [1.90000e+04 5.40000e+01]\n",
      " [2.00000e+04 6.00000e+01]\n",
      " [3.70000e+04 1.05000e+02]\n",
      " [3.20000e+04 9.00000e+01]\n",
      " [4.10000e+04 1.22000e+02]\n",
      " [1.50000e+04 6.20000e+01]\n",
      " [1.80000e+04 7.40000e+01]\n",
      " [1.30000e+04 5.20000e+01]\n",
      " [1.90000e+04 6.70000e+01]\n",
      " [2.60000e+04 8.70000e+01]\n",
      " [3.10000e+04 9.20000e+01]\n",
      " [2.00000e+04 6.10000e+01]\n",
      " [2.90000e+04 7.50000e+01]\n",
      " [3.10000e+04 8.80000e+01]\n",
      " [2.40000e+04 6.60000e+01]\n",
      " [3.30000e+04 9.40000e+01]\n",
      " [3.50000e+04 1.01000e+02]\n",
      " [2.10000e+04 5.90000e+01]\n",
      " [2.80000e+04 7.90000e+01]\n",
      " [3.00000e+04 8.50000e+01]\n",
      " [4.20000e+04 1.25000e+02]\n",
      " [1.60000e+04 6.30000e+01]\n",
      " [1.90000e+04 7.10000e+01]\n",
      " [3.40000e+04 9.90000e+01]\n",
      " [1.50000e+04 6.05000e+01]\n",
      " [2.50000e+04 8.00000e+01]\n",
      " [3.00000e+04 9.00000e+01]\n",
      " [2.00000e+04 7.00000e+01]\n",
      " [4.50000e+04 1.20000e+02]\n",
      " [1.80000e+04 6.50000e+01]\n",
      " [2.20000e+04 7.50000e+01]\n",
      " [2.80000e+04 8.50000e+01]\n",
      " [3.50000e+04 1.00000e+02]\n",
      " [2.10000e+04 6.80000e+01]\n",
      " [3.30000e+04 9.50000e+01]\n",
      " [4.00000e+04 1.10000e+02]\n",
      " [6.00000e+04 1.50000e+02]\n",
      " [5.00000e+04 1.30000e+02]\n",
      " [7.00000e+04 1.40000e+02]\n",
      " [8.00000e+04 1.60000e+02]\n",
      " [1.20000e+04 4.50000e+01]\n",
      " [1.70000e+04 5.50000e+01]\n",
      " [1.90000e+04 7.00000e+01]\n",
      " [2.60000e+04 8.50000e+01]\n",
      " [3.00000e+04 9.50000e+01]\n",
      " [2.20000e+04 7.50000e+01]\n",
      " [3.20000e+04 1.10000e+02]\n",
      " [2.80000e+04 9.00000e+01]\n",
      " [2.50000e+04 8.00000e+01]\n",
      " [2.40000e+04 6.50000e+01]\n",
      " [1.90000e+04 5.00000e+01]\n",
      " [3.60000e+04 1.05000e+02]\n",
      " [3.10000e+04 9.50000e+01]\n",
      " [3.30000e+04 1.15000e+02]\n",
      " [3.70000e+04 1.20000e+02]\n",
      " [1.30000e+04 5.00000e+01]\n",
      " [2.10000e+04 7.00000e+01]\n",
      " [2.40000e+04 8.50000e+01]\n",
      " [3.10000e+04 9.00000e+01]\n",
      " [1.80000e+04 6.00000e+01]\n",
      " [3.00000e+04 1.00000e+02]\n",
      " [2.50000e+04 8.00000e+01]\n",
      " [2.90000e+04 7.00000e+01]\n",
      " [3.30000e+04 9.50000e+01]\n",
      " [3.20000e+04 9.00000e+01]\n",
      " [2.00000e+04 5.50000e+01]\n",
      " [3.40000e+04 1.00000e+02]\n",
      " [3.10000e+04 8.50000e+01]\n",
      " [3.80000e+04 1.15000e+02]\n",
      " [1.60000e+04 6.50000e+01]\n",
      " [1.40000e+04 5.80000e+01]\n",
      " [2.20000e+04 7.20000e+01]\n",
      " [2.70000e+04 8.80000e+01]\n",
      " [3.10000e+04 9.20000e+01]\n",
      " [3.40000e+04 1.10000e+02]\n",
      " [2.60000e+04 7.70000e+01]\n",
      " [2.80000e+04 8.20000e+01]\n",
      " [3.00000e+04 9.60000e+01]\n",
      " [1.90000e+04 5.40000e+01]\n",
      " [2.00000e+04 6.00000e+01]\n",
      " [3.70000e+04 1.05000e+02]\n",
      " [3.20000e+04 9.00000e+01]\n",
      " [4.10000e+04 1.22000e+02]\n",
      " [1.50000e+04 6.20000e+01]\n",
      " [1.80000e+04 7.40000e+01]\n",
      " [1.30000e+04 5.20000e+01]\n",
      " [1.90000e+04 6.70000e+01]\n",
      " [2.60000e+04 8.70000e+01]\n",
      " [3.10000e+04 9.20000e+01]\n",
      " [2.00000e+04 6.10000e+01]\n",
      " [2.90000e+04 7.50000e+01]\n",
      " [3.10000e+04 8.80000e+01]\n",
      " [2.40000e+04 6.60000e+01]\n",
      " [3.30000e+04 9.40000e+01]\n",
      " [3.50000e+04 1.01000e+02]\n",
      " [2.10000e+04 5.90000e+01]\n",
      " [2.80000e+04 7.90000e+01]\n",
      " [3.00000e+04 8.50000e+01]\n",
      " [4.20000e+04 1.25000e+02]\n",
      " [1.60000e+04 6.30000e+01]\n",
      " [1.90000e+04 7.10000e+01]\n",
      " [3.40000e+04 9.90000e+01]\n",
      " [1.10000e+04 4.00000e+01]\n",
      " [1.50000e+04 5.00000e+01]\n",
      " [1.40000e+04 4.50000e+01]\n",
      " [1.30000e+04 5.20000e+01]\n",
      " [1.20000e+04 4.80000e+01]\n",
      " [2.20000e+04 7.00000e+01]\n",
      " [2.10000e+04 7.50000e+01]\n",
      " [1.90000e+04 6.20000e+01]\n",
      " [2.00000e+04 6.50000e+01]\n",
      " [2.50000e+04 8.00000e+01]\n",
      " [2.70000e+04 8.80000e+01]\n",
      " [3.20000e+04 9.50000e+01]\n",
      " [3.40000e+04 1.05000e+02]\n",
      " [1.80000e+04 6.00000e+01]\n",
      " [3.00000e+04 9.00000e+01]\n",
      " [3.50000e+04 1.10000e+02]\n",
      " [4.00000e+04 1.15000e+02]\n",
      " [1.50000e+04 6.50000e+01]\n",
      " [2.30000e+04 8.50000e+01]\n",
      " [2.70000e+04 9.00000e+01]\n",
      " [2.90000e+04 9.50000e+01]\n",
      " [1.70000e+04 7.00000e+01]\n",
      " [2.50000e+04 8.00000e+01]\n",
      " [3.30000e+04 1.00000e+02]\n",
      " [3.60000e+04 1.20000e+02]\n",
      " [1.40000e+04 5.50000e+01]\n",
      " [1.80000e+04 6.00000e+01]\n",
      " [2.40000e+04 8.00000e+01]\n",
      " [3.00000e+04 9.00000e+01]\n",
      " [2.10000e+04 6.50000e+01]\n",
      " [1.70000e+04 5.50000e+01]\n",
      " [2.20000e+04 7.00000e+01]\n",
      " [3.20000e+04 1.00000e+02]\n",
      " [1.60000e+04 6.50000e+01]\n",
      " [2.60000e+04 8.00000e+01]\n",
      " [3.00000e+04 9.00000e+01]\n",
      " [3.30000e+04 1.00000e+02]\n",
      " [1.80000e+04 7.50000e+01]\n",
      " [2.50000e+04 8.50000e+01]\n",
      " [2.80000e+04 9.50000e+01]\n",
      " [3.00000e+04 1.20000e+05]\n",
      " [6.66660e+04 3.99996e+05]\n",
      " [1.03460e+04 8.27680e+04]\n",
      " [3.45660e+04 3.11094e+05]\n",
      " [4.63560e+04 2.31780e+05]\n",
      " [1.59570e+04 1.27656e+05]\n",
      " [7.77770e+04 5.44439e+05]\n",
      " [6.00000e+03 1.20000e+04]\n",
      " [4.00000e+04 1.60000e+05]\n",
      " [5.56765e+05 2.22706e+06]\n",
      " [6.00000e+03 1.80000e+04]\n",
      " [5.00000e+03 2.50000e+04]\n",
      " [1.50000e+04 9.00000e+04]\n",
      " [2.46000e+04 1.47600e+05]\n",
      " [2.00000e+04 4.00000e+04]\n",
      " [5.55550e+04 2.77775e+05]\n",
      " [5.55550e+04 2.77775e+05]\n",
      " [4.00000e+03 2.00000e+04]\n",
      " [5.00000e+03 2.00000e+04]\n",
      " [6.00000e+03 3.00000e+04]\n",
      " [3.00000e+04 1.80000e+05]\n",
      " [2.00000e+04 6.00000e+04]\n",
      " [2.60000e+04 1.56000e+05]\n",
      " [1.60000e+04 8.00000e+04]\n",
      " [2.22220e+04 4.44440e+04]\n",
      " [2.00000e+04 5.33330e+02]\n",
      " [3.50000e+04 3.88890e+02]\n",
      " [3.00000e+04 3.33330e+02]\n",
      " [4.00000e+04 1.00000e+03]\n",
      " [4.50000e+04 7.10530e+02]\n",
      " [4.20000e+04 3.13430e+02]\n",
      " [3.30000e+04 5.38780e+02]\n",
      " [6.00000e+04 3.00000e+02]\n",
      " [2.70000e+04 3.94150e+02]\n",
      " [4.10000e+04 2.18670e+02]\n",
      " [2.46370e+04 7.39110e+01]\n",
      " [7.68480e+04 2.30544e+02]\n",
      " [3.00000e+04 1.80000e+02]\n",
      " [4.34310e+04 1.30293e+02]\n",
      " [2.50000e+04 8.00000e+01]\n",
      " [1.50000e+04 5.00000e+01]\n",
      " [1.80000e+04 6.00000e+01]\n",
      " [5.00000e+04 9.50000e+01]\n",
      " [3.00000e+04 8.50000e+01]\n",
      " [2.00000e+04 7.00000e+01]\n",
      " [2.20000e+04 6.50000e+01]\n",
      " [1.50000e+04 4.50000e+01]\n",
      " [1.70000e+04 5.50000e+01]\n",
      " [4.00000e+04 9.00000e+01]\n",
      " [4.30000e+04 4.30000e+01]\n",
      " [4.30000e+04 5.40000e+01]\n",
      " [8.80000e+04 8.80000e+01]\n",
      " [6.00000e+03 3.00000e+01]\n",
      " [5.73560e+04 1.72068e+02]\n",
      " [2.00000e+04 4.00000e+04]\n",
      " [5.74730e+04 2.87365e+02]\n",
      " [3.58680e+04 2.15208e+02]\n",
      " [2.50000e+04 7.50000e+04]\n",
      " [1.50000e+04 6.05000e+01]\n",
      " [2.50000e+04 8.00000e+01]\n",
      " [3.00000e+04 9.00000e+01]\n",
      " [2.00000e+04 7.00000e+01]\n",
      " [4.50000e+04 1.20000e+02]\n",
      " [1.80000e+04 6.50000e+01]\n",
      " [2.20000e+04 7.50000e+01]\n",
      " [2.80000e+04 8.50000e+01]\n",
      " [3.50000e+04 1.00000e+02]\n",
      " [2.10000e+04 6.80000e+01]\n",
      " [3.30000e+04 9.50000e+01]\n",
      " [4.00000e+04 1.10000e+02]\n",
      " [6.00000e+04 1.50000e+02]\n",
      " [5.00000e+04 1.30000e+02]\n",
      " [7.00000e+04 1.40000e+02]\n",
      " [8.00000e+04 1.60000e+02]\n",
      " [1.20000e+04 4.50000e+01]\n",
      " [1.70000e+04 5.50000e+01]\n",
      " [1.90000e+04 7.00000e+01]\n",
      " [2.60000e+04 8.50000e+01]\n",
      " [3.00000e+04 9.50000e+01]\n",
      " [2.20000e+04 7.50000e+01]\n",
      " [3.20000e+04 1.10000e+02]\n",
      " [2.80000e+04 9.00000e+01]\n",
      " [2.50000e+04 8.00000e+01]\n",
      " [2.40000e+04 6.50000e+01]\n",
      " [1.90000e+04 5.00000e+01]\n",
      " [3.60000e+04 1.05000e+02]\n",
      " [3.10000e+04 9.50000e+01]\n",
      " [3.30000e+04 1.15000e+02]\n",
      " [3.70000e+04 1.20000e+02]]\n"
     ]
    }
   ],
   "source": [
    "print(X)"
   ]
  },
  {
   "cell_type": "markdown",
   "metadata": {
    "id": "LUHCVZWVNVb5"
   },
   "source": [
    "Choosing the number of clusters"
   ]
  },
  {
   "cell_type": "markdown",
   "metadata": {
    "id": "25tFwgnZNiRF"
   },
   "source": [
    "WCSS  ->  Within Clusters Sum of Squares"
   ]
  },
  {
   "cell_type": "code",
   "execution_count": 52,
   "metadata": {
    "id": "LywIm4NDNIG1"
   },
   "outputs": [],
   "source": [
    "# finding wcss value for different number of clusters\n",
    "\n",
    "wcss = []\n",
    "\n",
    "for i in range(1,11):\n",
    "  kmeans = KMeans(n_clusters=i, init='k-means++', random_state=42)\n",
    "  kmeans.fit(X)\n",
    "\n",
    "  wcss.append(kmeans.inertia_)"
   ]
  },
  {
   "cell_type": "code",
   "execution_count": 53,
   "metadata": {
    "colab": {
     "base_uri": "https://localhost:8080/",
     "height": 301
    },
    "id": "1rWLIgxJPXI_",
    "outputId": "fabdc714-dcc6-465d-d84d-fc8d65b8c5dc"
   },
   "outputs": [
    {
     "data": {
      "image/png": "[encoded data removed]",
      "text/plain": [
       "<Figure size 640x480 with 1 Axes>"
      ]
     },
     "metadata": {},
     "output_type": "display_data"
    }
   ],
   "source": [
    "# plot an elbow graph\n",
    "\n",
    "sns.set()\n",
    "plt.plot(range(1,11), wcss)\n",
    "plt.title('The Elbow Point Graph')\n",
    "plt.xlabel('Number of Clusters')\n",
    "plt.ylabel('WCSS')\n",
    "plt.show()"
   ]
  },
  {
   "cell_type": "markdown",
   "metadata": {
    "id": "ifedd9_gQC4x"
   },
   "source": [
    "Optimum Number of Clusters = 5"
   ]
  },
  {
   "cell_type": "markdown",
   "metadata": {
    "id": "J3DiuWPtQKnU"
   },
   "source": [
    "Training the k-Means Clustering Model"
   ]
  },
  {
   "cell_type": "code",
   "execution_count": 54,
   "metadata": {
    "colab": {
     "base_uri": "https://localhost:8080/"
    },
    "id": "-5S3HwLpPy3h",
    "outputId": "4d008806-2579-4c85-8b65-d53f10f13191"
   },
   "outputs": [
    {
     "name": "stdout",
     "output_type": "stream",
     "text": [
      "[0 0 0 0 0 0 0 0 0 0 0 0 0 0 0 0 0 0 3 0 2 2 3 0 0 0 0 0 0 0 0 0 0 0 0 0 0\n",
      " 0 0 0 0 0 0 0 0 0 0 0 0 0 0 0 0 0 0 0 0 0 0 0 0 0 0 0 0 0 0 0 0 0 0 0 0 0\n",
      " 0 0 0 0 0 0 0 0 0 0 0 0 0 0 0 0 0 0 0 0 0 0 0 0 0 0 0 0 0 0 0 0 0 0 0 0 0\n",
      " 0 0 0 0 0 0 0 0 0 0 0 0 0 0 0 0 0 0 0 0 0 0 0 0 0 0 0 0 0 0 0 0 0 0 0 0 0\n",
      " 0 0 0 0 0 0 0 0 0 0 0 0 0 0 0 0 0 0 0 0 0 0 0 0 0 0 0 0 0 0 0 0 0 0 0 0 0\n",
      " 0 0 0 0 0 0 0 0 0 0 0 0 0 0 0 0 0 0 0 0 0 0 0 0 0 0 0 0 0 0 0 0 0 0 3 4 3\n",
      " 2 2 3 4 0 3 1 0 0 3 3 0 2 2 0 0 0 3 0 3 3 0 0 0 0 0 0 0 0 0 0 0 0 0 0 0 0\n",
      " 0 0 0 0 0 0 0 0 0 0 0 0 0 0 0 0 0 3 0 0 0 0 0 0 0 0 0 0 0 0 0 0 0 0 0 0 0\n",
      " 0 0 0 0 0 0 0 0 0 0 0 0]\n"
     ]
    }
   ],
   "source": [
    "kmeans = KMeans(n_clusters=5, init='k-means++', random_state=0)\n",
    "\n",
    "# return a label for each data point based on their cluster\n",
    "Y = kmeans.fit_predict(X)\n",
    "\n",
    "print(Y)"
   ]
  },
  {
   "cell_type": "markdown",
   "metadata": {
    "id": "ehXD5VrDSyuB"
   },
   "source": [
    "5 Clusters -  0, 1, 2, 3, 4"
   ]
  },
  {
   "cell_type": "markdown",
   "metadata": {
    "id": "AfFa2VDQRNcK"
   },
   "source": [
    "Visualizing all the Clusters"
   ]
  },
  {
   "cell_type": "code",
   "execution_count": 56,
   "metadata": {
    "colab": {
     "base_uri": "https://localhost:8080/",
     "height": 518
    },
    "id": "Tl_Obm0aQ_cU",
    "outputId": "9e554efe-7307-4f24-bbda-7fded2ce0616"
   },
   "outputs": [
    {
     "data": {
      "image/png": "[encoded data removed]",
      "text/plain": [
       "<Figure size 800x800 with 1 Axes>"
      ]
     },
     "metadata": {},
     "output_type": "display_data"
    }
   ],
   "source": [
    "# plotting all the clusters and their Centroids\n",
    "\n",
    "plt.figure(figsize=(8,8))\n",
    "plt.scatter(X[Y==0,0], X[Y==0,1], s=50, c='green', label='Cluster 1')\n",
    "plt.scatter(X[Y==1,0], X[Y==1,1], s=50, c='red', label='Cluster 2')\n",
    "plt.scatter(X[Y==2,0], X[Y==2,1], s=50, c='yellow', label='Cluster 3')\n",
    "plt.scatter(X[Y==3,0], X[Y==3,1], s=50, c='violet', label='Cluster 4')\n",
    "plt.scatter(X[Y==4,0], X[Y==4,1], s=50, c='blue', label='Cluster 5')\n",
    "\n",
    "# plot the centroids\n",
    "plt.scatter(kmeans.cluster_centers_[:,0], kmeans.cluster_centers_[:,1], s=100, c='cyan', label='Centroids')\n",
    "\n",
    "plt.title('Customer Groups')\n",
    "plt.xlabel('Annual Income')\n",
    "plt.ylabel('Spending Score')\n",
    "plt.show()"
   ]
  },
  {
   "cell_type": "code",
   "execution_count": null,
   "metadata": {
    "id": "OjWc3GPiUFBm"
   },
   "outputs": [],
   "source": []
  }
 ],
 "metadata": {
  "colab": {
   "provenance": []
  },
  "kernelspec": {
   "display_name": "Python 3",
   "language": "python",
   "name": "python3"
  },
  "language_info": {
   "codemirror_mode": {
    "name": "ipython",
    "version": 3
   },
   "file_extension": ".py",
   "mimetype": "text/x-python",
   "name": "python",
   "nbconvert_exporter": "python",
   "pygments_lexer": "ipython3",
   "version": "3.10.0"
  }
 },
 "nbformat": 4,
 "nbformat_minor": 4
}
