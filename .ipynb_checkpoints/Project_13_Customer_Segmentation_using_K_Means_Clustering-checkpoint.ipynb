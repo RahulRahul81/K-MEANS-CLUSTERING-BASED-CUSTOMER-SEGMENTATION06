{
 "cells": [
  {
   "cell_type": "markdown",
   "metadata": {
    "id": "MTIXrkCYKtlu"
   },
   "source": [
    "Importing the Dependencies"
   ]
  },
  {
   "cell_type": "code",
   "execution_count": 85,
   "metadata": {
    "id": "mL7HLYQFXW-c"
   },
   "outputs": [],
   "source": [
    "import numpy as np\n",
    "import pandas as pd\n",
    "import matplotlib.pyplot as plt\n",
    "import seaborn as sns\n",
    "from sklearn.cluster import KMeans"
   ]
  },
  {
   "cell_type": "markdown",
   "metadata": {
    "id": "KigjC6mBLJN3"
   },
   "source": [
    "Data Collection & Analysis"
   ]
  },
  {
   "cell_type": "code",
   "execution_count": 86,
   "metadata": {
    "id": "gTSFo2LiLIav"
   },
   "outputs": [],
   "source": [
    "# loading the data from csv file to a Pandas DataFrame\n",
    "customer_data = pd.read_csv('D:\\Programming\\python\\customers.csv')"
   ]
  },
  {
   "cell_type": "code",
   "execution_count": 87,
   "metadata": {
    "colab": {
     "base_uri": "https://localhost:8080/",
     "height": 196
    },
    "id": "mbtjztN3Lhcu",
    "outputId": "4b5e3ec9-1784-4918-bece-7616a2305e4b"
   },
   "outputs": [
    {
     "data": {
      "text/html": [
       "<div>\n",
       "<style scoped>\n",
       "    .dataframe tbody tr th:only-of-type {\n",
       "        vertical-align: middle;\n",
       "    }\n",
       "\n",
       "    .dataframe tbody tr th {\n",
       "        vertical-align: top;\n",
       "    }\n",
       "\n",
       "    .dataframe thead th {\n",
       "        text-align: right;\n",
       "    }\n",
       "</style>\n",
       "<table border=\"1\" class=\"dataframe\">\n",
       "  <thead>\n",
       "    <tr style=\"text-align: right;\">\n",
       "      <th></th>\n",
       "      <th>Age</th>\n",
       "      <th>Purchase Frequency</th>\n",
       "      <th>Average Amount Spent</th>\n",
       "      <th>Spending Score</th>\n",
       "    </tr>\n",
       "  </thead>\n",
       "  <tbody>\n",
       "    <tr>\n",
       "      <th>0</th>\n",
       "      <td>55</td>\n",
       "      <td>3</td>\n",
       "      <td>24637.0</td>\n",
       "      <td>73.911</td>\n",
       "    </tr>\n",
       "    <tr>\n",
       "      <th>1</th>\n",
       "      <td>65</td>\n",
       "      <td>3</td>\n",
       "      <td>76848.0</td>\n",
       "      <td>230.544</td>\n",
       "    </tr>\n",
       "    <tr>\n",
       "      <th>2</th>\n",
       "      <td>80</td>\n",
       "      <td>6</td>\n",
       "      <td>30000.0</td>\n",
       "      <td>180.000</td>\n",
       "    </tr>\n",
       "    <tr>\n",
       "      <th>3</th>\n",
       "      <td>48</td>\n",
       "      <td>3</td>\n",
       "      <td>43431.0</td>\n",
       "      <td>130.293</td>\n",
       "    </tr>\n",
       "    <tr>\n",
       "      <th>4</th>\n",
       "      <td>25</td>\n",
       "      <td>5</td>\n",
       "      <td>25000.0</td>\n",
       "      <td>80.000</td>\n",
       "    </tr>\n",
       "  </tbody>\n",
       "</table>\n",
       "</div>"
      ],
      "text/plain": [
       "   Age  Purchase Frequency  Average Amount Spent  Spending Score\n",
       "0   55                   3               24637.0          73.911\n",
       "1   65                   3               76848.0         230.544\n",
       "2   80                   6               30000.0         180.000\n",
       "3   48                   3               43431.0         130.293\n",
       "4   25                   5               25000.0          80.000"
      ]
     },
     "execution_count": 87,
     "metadata": {},
     "output_type": "execute_result"
    }
   ],
   "source": [
    "# first 5 rows in the dataframe\n",
    "customer_data.head()"
   ]
  },
  {
   "cell_type": "code",
   "execution_count": 88,
   "metadata": {
    "colab": {
     "base_uri": "https://localhost:8080/"
    },
    "id": "-NWZTDNRLofr",
    "outputId": "5cdb9e6b-20f2-4676-da6c-014dc7b3a38e"
   },
   "outputs": [
    {
     "data": {
      "text/plain": [
       "(449, 4)"
      ]
     },
     "execution_count": 88,
     "metadata": {},
     "output_type": "execute_result"
    }
   ],
   "source": [
    "# finding the number of rows and columns\n",
    "customer_data.shape"
   ]
  },
  {
   "cell_type": "code",
   "execution_count": 89,
   "metadata": {
    "colab": {
     "base_uri": "https://localhost:8080/"
    },
    "id": "K5qKxwHiL56b",
    "outputId": "ce5ec885-f107-493a-ecb7-42170d1fd7d5"
   },
   "outputs": [
    {
     "name": "stdout",
     "output_type": "stream",
     "text": [
      "<class 'pandas.core.frame.DataFrame'>\n",
      "RangeIndex: 449 entries, 0 to 448\n",
      "Data columns (total 4 columns):\n",
      " #   Column                Non-Null Count  Dtype  \n",
      "---  ------                --------------  -----  \n",
      " 0   Age                   449 non-null    int64  \n",
      " 1   Purchase Frequency    449 non-null    int64  \n",
      " 2   Average Amount Spent  449 non-null    float64\n",
      " 3   Spending Score        449 non-null    float64\n",
      "dtypes: float64(2), int64(2)\n",
      "memory usage: 14.2 KB\n"
     ]
    }
   ],
   "source": [
    "# getting some informations about the dataset\n",
    "customer_data.info()"
   ]
  },
  {
   "cell_type": "code",
   "execution_count": 90,
   "metadata": {
    "colab": {
     "base_uri": "https://localhost:8080/"
    },
    "id": "vBtCZvyFMI1O",
    "outputId": "d8a19c04-d0d1-4fb6-ea71-53e2137e0307"
   },
   "outputs": [
    {
     "data": {
      "text/plain": [
       "Age                     0\n",
       "Purchase Frequency      0\n",
       "Average Amount Spent    0\n",
       "Spending Score          0\n",
       "dtype: int64"
      ]
     },
     "execution_count": 90,
     "metadata": {},
     "output_type": "execute_result"
    }
   ],
   "source": [
    "# checking for missing values\n",
    "customer_data.isnull().sum()"
   ]
  },
  {
   "cell_type": "markdown",
   "metadata": {
    "id": "mDtt8uP0MoiH"
   },
   "source": [
    "Choosing the Average Amount Spent Column & Spending Score column"
   ]
  },
  {
   "cell_type": "code",
   "execution_count": 91,
   "metadata": {
    "id": "-GZMLhdvMXv5"
   },
   "outputs": [],
   "source": [
    "X = customer_data.iloc[:,[2,3]].values"
   ]
  },
  {
   "cell_type": "code",
   "execution_count": 92,
   "metadata": {
    "colab": {
     "base_uri": "https://localhost:8080/"
    },
    "id": "5vpIqX5qNHEB",
    "outputId": "ff589c21-c7ca-4c37-da4a-59ccddfbb828"
   },
   "outputs": [
    {
     "name": "stdout",
     "output_type": "stream",
     "text": [
      "[[2.463700e+04 7.391100e+01]\n",
      " [7.684800e+04 2.305440e+02]\n",
      " [3.000000e+04 1.800000e+02]\n",
      " [4.343100e+04 1.302930e+02]\n",
      " [2.500000e+04 8.000000e+01]\n",
      " [1.500000e+04 5.000000e+01]\n",
      " [1.800000e+04 6.000000e+01]\n",
      " [5.000000e+04 9.500000e+01]\n",
      " [3.000000e+04 8.500000e+01]\n",
      " [2.000000e+04 7.000000e+01]\n",
      " [2.200000e+04 6.500000e+01]\n",
      " [1.500000e+04 4.500000e+01]\n",
      " [1.700000e+04 5.500000e+01]\n",
      " [4.000000e+04 9.000000e+01]\n",
      " [4.300000e+04 4.300000e+01]\n",
      " [4.300000e+04 5.400000e+01]\n",
      " [8.800000e+04 8.800000e+01]\n",
      " [6.000000e+03 3.000000e+01]\n",
      " [5.735600e+04 1.720680e+05]\n",
      " [2.000000e+04 4.000000e+04]\n",
      " [5.747300e+04 2.873650e+05]\n",
      " [3.586800e+04 2.152080e+05]\n",
      " [2.500000e+04 7.500000e+04]\n",
      " [1.500000e+04 6.050000e+01]\n",
      " [2.500000e+04 8.000000e+01]\n",
      " [3.000000e+04 9.000000e+01]\n",
      " [2.000000e+04 7.000000e+01]\n",
      " [4.500000e+04 1.200000e+02]\n",
      " [1.800000e+04 6.500000e+01]\n",
      " [2.200000e+04 7.500000e+01]\n",
      " [2.800000e+04 8.500000e+01]\n",
      " [3.500000e+04 1.000000e+02]\n",
      " [2.100000e+04 6.800000e+01]\n",
      " [3.300000e+04 9.500000e+01]\n",
      " [4.000000e+04 1.100000e+02]\n",
      " [6.000000e+04 1.500000e+02]\n",
      " [5.000000e+04 1.300000e+02]\n",
      " [7.000000e+04 1.400000e+02]\n",
      " [8.000000e+04 1.600000e+02]\n",
      " [1.200000e+04 4.500000e+01]\n",
      " [1.700000e+04 5.500000e+01]\n",
      " [1.900000e+04 7.000000e+01]\n",
      " [2.600000e+04 8.500000e+01]\n",
      " [3.000000e+04 9.500000e+01]\n",
      " [2.200000e+04 7.500000e+01]\n",
      " [3.200000e+04 1.100000e+02]\n",
      " [2.800000e+04 9.000000e+01]\n",
      " [2.500000e+04 8.000000e+01]\n",
      " [2.400000e+04 6.500000e+01]\n",
      " [1.900000e+04 5.000000e+01]\n",
      " [3.600000e+04 1.050000e+02]\n",
      " [3.100000e+04 9.500000e+01]\n",
      " [3.300000e+04 1.150000e+02]\n",
      " [3.700000e+04 1.200000e+02]\n",
      " [1.300000e+04 5.000000e+01]\n",
      " [2.100000e+04 7.000000e+01]\n",
      " [2.400000e+04 8.500000e+01]\n",
      " [3.100000e+04 9.000000e+01]\n",
      " [1.800000e+04 6.000000e+01]\n",
      " [3.000000e+04 1.000000e+02]\n",
      " [2.500000e+04 8.000000e+01]\n",
      " [2.900000e+04 7.000000e+01]\n",
      " [3.300000e+04 9.500000e+01]\n",
      " [3.200000e+04 9.000000e+01]\n",
      " [2.000000e+04 5.500000e+01]\n",
      " [3.400000e+04 1.000000e+02]\n",
      " [3.100000e+04 8.500000e+01]\n",
      " [3.800000e+04 1.150000e+02]\n",
      " [1.600000e+04 6.500000e+01]\n",
      " [1.400000e+04 5.800000e+01]\n",
      " [2.200000e+04 7.200000e+01]\n",
      " [2.700000e+04 8.800000e+01]\n",
      " [3.100000e+04 9.200000e+01]\n",
      " [3.400000e+04 1.100000e+02]\n",
      " [2.600000e+04 7.700000e+01]\n",
      " [2.800000e+04 8.200000e+01]\n",
      " [3.000000e+04 9.600000e+01]\n",
      " [1.900000e+04 5.400000e+01]\n",
      " [2.000000e+04 6.000000e+01]\n",
      " [3.700000e+04 1.050000e+02]\n",
      " [3.200000e+04 9.000000e+01]\n",
      " [4.100000e+04 1.220000e+02]\n",
      " [1.500000e+04 6.200000e+01]\n",
      " [1.800000e+04 7.400000e+01]\n",
      " [1.300000e+04 5.200000e+01]\n",
      " [1.900000e+04 6.700000e+01]\n",
      " [2.600000e+04 8.700000e+01]\n",
      " [3.100000e+04 9.200000e+01]\n",
      " [2.000000e+04 6.100000e+01]\n",
      " [2.900000e+04 7.500000e+01]\n",
      " [3.100000e+04 8.800000e+01]\n",
      " [2.400000e+04 6.600000e+01]\n",
      " [3.300000e+04 9.400000e+01]\n",
      " [3.500000e+04 1.010000e+02]\n",
      " [2.100000e+04 5.900000e+01]\n",
      " [2.800000e+04 7.900000e+01]\n",
      " [3.000000e+04 8.500000e+01]\n",
      " [4.200000e+04 1.250000e+02]\n",
      " [1.600000e+04 6.300000e+01]\n",
      " [1.900000e+04 7.100000e+01]\n",
      " [3.400000e+04 9.900000e+01]\n",
      " [1.500000e+04 6.050000e+01]\n",
      " [2.500000e+04 8.000000e+01]\n",
      " [3.000000e+04 9.000000e+01]\n",
      " [2.000000e+04 7.000000e+01]\n",
      " [4.500000e+04 1.200000e+02]\n",
      " [1.800000e+04 6.500000e+01]\n",
      " [2.200000e+04 7.500000e+01]\n",
      " [2.800000e+04 8.500000e+01]\n",
      " [3.500000e+04 1.000000e+02]\n",
      " [2.100000e+04 6.800000e+01]\n",
      " [3.300000e+04 9.500000e+01]\n",
      " [4.000000e+04 1.100000e+02]\n",
      " [6.000000e+04 1.500000e+02]\n",
      " [5.000000e+04 1.300000e+02]\n",
      " [7.000000e+04 1.400000e+02]\n",
      " [8.000000e+04 1.600000e+02]\n",
      " [1.200000e+04 4.500000e+01]\n",
      " [1.700000e+04 5.500000e+01]\n",
      " [1.900000e+04 7.000000e+01]\n",
      " [2.600000e+04 8.500000e+01]\n",
      " [3.000000e+04 9.500000e+01]\n",
      " [2.200000e+04 7.500000e+01]\n",
      " [3.200000e+04 1.100000e+02]\n",
      " [2.800000e+04 9.000000e+01]\n",
      " [2.500000e+04 8.000000e+01]\n",
      " [2.400000e+04 6.500000e+01]\n",
      " [1.900000e+04 5.000000e+01]\n",
      " [3.600000e+04 1.050000e+02]\n",
      " [3.100000e+04 9.500000e+01]\n",
      " [3.300000e+04 1.150000e+02]\n",
      " [3.700000e+04 1.200000e+02]\n",
      " [1.300000e+04 5.000000e+01]\n",
      " [2.100000e+04 7.000000e+01]\n",
      " [2.400000e+04 8.500000e+01]\n",
      " [3.100000e+04 9.000000e+01]\n",
      " [1.800000e+04 6.000000e+01]\n",
      " [3.000000e+04 1.000000e+02]\n",
      " [2.500000e+04 8.000000e+01]\n",
      " [2.900000e+04 7.000000e+01]\n",
      " [3.300000e+04 9.500000e+01]\n",
      " [3.200000e+04 9.000000e+01]\n",
      " [2.000000e+04 5.500000e+01]\n",
      " [3.400000e+04 1.000000e+02]\n",
      " [3.100000e+04 8.500000e+01]\n",
      " [3.800000e+04 1.150000e+02]\n",
      " [1.600000e+04 6.500000e+01]\n",
      " [1.400000e+04 5.800000e+01]\n",
      " [2.200000e+04 7.200000e+01]\n",
      " [2.700000e+04 8.800000e+01]\n",
      " [3.100000e+04 9.200000e+01]\n",
      " [3.400000e+04 1.100000e+02]\n",
      " [2.600000e+04 7.700000e+01]\n",
      " [2.800000e+04 8.200000e+01]\n",
      " [3.000000e+04 9.600000e+01]\n",
      " [1.900000e+04 5.400000e+01]\n",
      " [2.000000e+04 6.000000e+01]\n",
      " [3.700000e+04 1.050000e+02]\n",
      " [3.200000e+04 9.000000e+01]\n",
      " [4.100000e+04 1.220000e+02]\n",
      " [1.500000e+04 6.200000e+01]\n",
      " [1.800000e+04 7.400000e+01]\n",
      " [1.300000e+04 5.200000e+01]\n",
      " [1.900000e+04 6.700000e+01]\n",
      " [2.600000e+04 8.700000e+01]\n",
      " [3.100000e+04 9.200000e+01]\n",
      " [2.000000e+04 6.100000e+01]\n",
      " [2.900000e+04 7.500000e+01]\n",
      " [3.100000e+04 8.800000e+01]\n",
      " [2.400000e+04 6.600000e+01]\n",
      " [3.300000e+04 9.400000e+01]\n",
      " [3.500000e+04 1.010000e+02]\n",
      " [2.100000e+04 5.900000e+01]\n",
      " [2.800000e+04 7.900000e+01]\n",
      " [3.000000e+04 8.500000e+01]\n",
      " [4.200000e+04 1.250000e+02]\n",
      " [1.600000e+04 6.300000e+01]\n",
      " [1.900000e+04 7.100000e+01]\n",
      " [3.400000e+04 9.900000e+01]\n",
      " [1.100000e+04 4.000000e+01]\n",
      " [1.500000e+04 5.000000e+01]\n",
      " [1.400000e+04 4.500000e+01]\n",
      " [1.300000e+04 5.200000e+01]\n",
      " [1.200000e+04 4.800000e+01]\n",
      " [2.200000e+04 7.000000e+01]\n",
      " [2.100000e+04 7.500000e+01]\n",
      " [1.900000e+04 6.200000e+01]\n",
      " [2.000000e+04 6.500000e+01]\n",
      " [2.500000e+04 8.000000e+01]\n",
      " [2.700000e+04 8.800000e+01]\n",
      " [3.200000e+04 9.500000e+01]\n",
      " [3.400000e+04 1.050000e+02]\n",
      " [1.800000e+04 6.000000e+01]\n",
      " [3.000000e+04 9.000000e+01]\n",
      " [3.500000e+04 1.100000e+02]\n",
      " [4.000000e+04 1.150000e+02]\n",
      " [1.500000e+04 6.500000e+01]\n",
      " [2.300000e+04 8.500000e+01]\n",
      " [2.700000e+04 9.000000e+01]\n",
      " [2.900000e+04 9.500000e+01]\n",
      " [1.700000e+04 7.000000e+01]\n",
      " [2.500000e+04 8.000000e+01]\n",
      " [3.300000e+04 1.000000e+02]\n",
      " [3.600000e+04 1.200000e+02]\n",
      " [1.400000e+04 5.500000e+01]\n",
      " [1.800000e+04 6.000000e+01]\n",
      " [2.400000e+04 8.000000e+01]\n",
      " [3.000000e+04 9.000000e+01]\n",
      " [2.100000e+04 6.500000e+01]\n",
      " [1.700000e+04 5.500000e+01]\n",
      " [2.200000e+04 7.000000e+01]\n",
      " [3.200000e+04 1.000000e+02]\n",
      " [1.600000e+04 6.500000e+01]\n",
      " [2.600000e+04 8.000000e+01]\n",
      " [3.000000e+04 9.000000e+01]\n",
      " [3.300000e+04 1.000000e+02]\n",
      " [1.800000e+04 7.500000e+01]\n",
      " [2.500000e+04 8.500000e+01]\n",
      " [2.800000e+04 9.500000e+01]\n",
      " [3.000000e+04 1.200000e+05]\n",
      " [6.666600e+04 3.999960e+05]\n",
      " [1.034600e+04 8.276800e+04]\n",
      " [3.456600e+04 3.110940e+05]\n",
      " [4.635600e+04 2.317800e+05]\n",
      " [1.595700e+04 1.276560e+05]\n",
      " [7.777700e+04 5.444390e+05]\n",
      " [6.000000e+03 1.200000e+04]\n",
      " [4.000000e+04 1.600000e+05]\n",
      " [5.567650e+05 2.227060e+06]\n",
      " [6.000000e+03 1.800000e+04]\n",
      " [5.000000e+03 2.500000e+04]\n",
      " [1.500000e+04 9.000000e+04]\n",
      " [2.460000e+04 1.476000e+05]\n",
      " [2.000000e+04 4.000000e+04]\n",
      " [5.555500e+04 2.777750e+05]\n",
      " [5.555500e+04 2.777750e+05]\n",
      " [4.000000e+03 2.000000e+04]\n",
      " [5.000000e+03 2.000000e+04]\n",
      " [6.000000e+03 3.000000e+04]\n",
      " [3.000000e+04 1.800000e+05]\n",
      " [2.000000e+04 6.000000e+04]\n",
      " [2.600000e+04 1.560000e+05]\n",
      " [1.600000e+04 8.000000e+04]\n",
      " [2.222200e+04 4.444400e+04]\n",
      " [2.000000e+04 5.333300e+02]\n",
      " [3.500000e+04 3.888900e+02]\n",
      " [3.000000e+04 3.333300e+02]\n",
      " [4.000000e+04 1.000000e+03]\n",
      " [4.500000e+04 7.105300e+02]\n",
      " [4.200000e+04 3.134300e+02]\n",
      " [3.300000e+04 5.387800e+02]\n",
      " [6.000000e+04 3.000000e+02]\n",
      " [2.700000e+04 3.941500e+02]\n",
      " [4.100000e+04 2.186700e+02]\n",
      " [2.463700e+04 7.391100e+01]\n",
      " [7.684800e+04 2.305440e+02]\n",
      " [3.000000e+04 1.800000e+02]\n",
      " [4.343100e+04 1.302930e+02]\n",
      " [2.500000e+04 8.000000e+01]\n",
      " [1.500000e+04 5.000000e+01]\n",
      " [1.800000e+04 6.000000e+01]\n",
      " [5.000000e+04 9.500000e+01]\n",
      " [3.000000e+04 8.500000e+01]\n",
      " [2.000000e+04 7.000000e+01]\n",
      " [2.200000e+04 6.500000e+01]\n",
      " [1.500000e+04 4.500000e+01]\n",
      " [1.700000e+04 5.500000e+01]\n",
      " [4.000000e+04 9.000000e+01]\n",
      " [4.300000e+04 4.300000e+01]\n",
      " [4.300000e+04 5.400000e+01]\n",
      " [8.800000e+04 8.800000e+01]\n",
      " [6.000000e+03 3.000000e+01]\n",
      " [5.735600e+04 1.720680e+02]\n",
      " [2.000000e+04 4.000000e+04]\n",
      " [5.747300e+04 2.873650e+02]\n",
      " [3.586800e+04 2.152080e+02]\n",
      " [2.500000e+04 7.500000e+04]\n",
      " [1.500000e+04 6.050000e+01]\n",
      " [2.500000e+04 8.000000e+01]\n",
      " [3.000000e+04 9.000000e+01]\n",
      " [2.000000e+04 7.000000e+01]\n",
      " [4.500000e+04 1.200000e+02]\n",
      " [1.800000e+04 6.500000e+01]\n",
      " [2.200000e+04 7.500000e+01]\n",
      " [2.800000e+04 8.500000e+01]\n",
      " [3.500000e+04 1.000000e+02]\n",
      " [2.100000e+04 6.800000e+01]\n",
      " [3.300000e+04 9.500000e+01]\n",
      " [4.000000e+04 1.100000e+02]\n",
      " [6.000000e+04 1.500000e+02]\n",
      " [5.000000e+04 1.300000e+02]\n",
      " [7.000000e+04 1.400000e+02]\n",
      " [8.000000e+04 1.600000e+02]\n",
      " [1.200000e+04 4.500000e+01]\n",
      " [1.700000e+04 5.500000e+01]\n",
      " [1.900000e+04 7.000000e+01]\n",
      " [2.600000e+04 8.500000e+01]\n",
      " [3.000000e+04 9.500000e+01]\n",
      " [2.200000e+04 7.500000e+01]\n",
      " [3.200000e+04 1.100000e+02]\n",
      " [2.800000e+04 9.000000e+01]\n",
      " [2.500000e+04 8.000000e+01]\n",
      " [2.400000e+04 6.500000e+01]\n",
      " [1.900000e+04 5.000000e+01]\n",
      " [3.600000e+04 1.050000e+02]\n",
      " [3.100000e+04 9.500000e+01]\n",
      " [3.300000e+04 1.150000e+02]\n",
      " [3.700000e+04 1.200000e+02]\n",
      " [1.500000e+04 8.333330e+02]\n",
      " [2.000000e+04 9.090900e+01]\n",
      " [2.500000e+04 7.500000e+01]\n",
      " [3.000000e+04 8.500000e+01]\n",
      " [1.500000e+04 5.000000e+01]\n",
      " [4.000000e+04 8.750000e+01]\n",
      " [1.500000e+04 4.285700e+01]\n",
      " [2.000000e+04 3.000000e+01]\n",
      " [6.000000e+04 1.285710e+02]\n",
      " [5.000000e+04 8.888900e+01]\n",
      " [2.500000e+04 1.000000e+02]\n",
      " [3.500000e+04 1.000000e+02]\n",
      " [5.000000e+04 9.090900e+01]\n",
      " [4.500000e+04 8.620700e+01]\n",
      " [6.000000e+04 1.000000e+02]\n",
      " [5.500000e+04 1.047620e+02]\n",
      " [2.200000e+04 4.400000e+01]\n",
      " [1.800000e+04 9.000000e+01]\n",
      " [5.500000e+04 1.571430e+02]\n",
      " [2.800000e+04 8.666700e+01]\n",
      " [3.000000e+04 8.000000e+01]\n",
      " [1.500000e+04 3.750000e+01]\n",
      " [2.500000e+04 7.500000e+01]\n",
      " [2.000000e+04 1.200000e+02]\n",
      " [3.500000e+04 1.222220e+02]\n",
      " [4.000000e+04 1.068970e+02]\n",
      " [2.200000e+04 9.777800e+01]\n",
      " [1.700000e+04 5.166700e+01]\n",
      " [5.500000e+04 1.381580e+02]\n",
      " [1.000000e+04 4.545500e+01]\n",
      " [2.500000e+04 2.083330e+02]\n",
      " [3.800000e+04 7.600000e+01]\n",
      " [3.500000e+04 6.000000e+01]\n",
      " [2.700000e+04 5.400000e+01]\n",
      " [2.200000e+04 6.666700e+01]\n",
      " [1.300000e+04 6.500000e+01]\n",
      " [4.200000e+04 1.050000e+02]\n",
      " [5.000000e+04 1.111110e+02]\n",
      " [2.000000e+04 4.000000e+01]\n",
      " [3.000000e+04 9.230800e+01]\n",
      " [2.200000e+04 7.333300e+01]\n",
      " [2.100000e+04 7.500000e+01]\n",
      " [2.400000e+04 8.000000e+01]\n",
      " [1.900000e+04 5.714300e+01]\n",
      " [3.500000e+04 9.285700e+01]\n",
      " [2.800000e+04 7.368400e+01]\n",
      " [2.600000e+04 4.500000e+01]\n",
      " [2.000000e+04 5.000000e+01]\n",
      " [3.800000e+04 9.500000e+01]\n",
      " [4.000000e+04 6.666700e+01]\n",
      " [4.300000e+04 7.413800e+01]\n",
      " [3.900000e+04 8.333300e+01]\n",
      " [2.500000e+04 7.407400e+01]\n",
      " [2.200000e+04 6.800000e+01]\n",
      " [3.300000e+04 1.356160e+02]\n",
      " [2.700000e+04 2.700000e+02]\n",
      " [2.800000e+04 9.333300e+01]\n",
      " [3.400000e+04 1.050000e+02]\n",
      " [3.600000e+04 9.000000e+01]\n",
      " [2.000000e+04 6.666700e+01]\n",
      " [6.000000e+04 1.500000e+02]\n",
      " [7.000000e+04 7.777800e+01]\n",
      " [4.400000e+04 1.381580e+02]\n",
      " [4.000000e+04 6.666670e+02]\n",
      " [2.500000e+04 1.250000e+03]\n",
      " [1.500000e+04 4.090910e+02]\n",
      " [1.000000e+04 2.000000e+02]\n",
      " [3.500000e+04 1.037037e+03]\n",
      " [5.000000e+04 6.666670e+02]\n",
      " [3.000000e+04 2.727270e+02]\n",
      " [4.500000e+04 9.000000e+02]\n",
      " [2.500000e+04 3.947370e+02]\n",
      " [4.000000e+04 8.000000e+02]\n",
      " [5.000000e+04 1.071429e+03]\n",
      " [2.000000e+04 1.777780e+02]\n",
      " [6.000000e+04 1.250000e+03]\n",
      " [1.000000e+04 1.000000e+02]\n",
      " [1.500000e+04 8.636360e+02]\n",
      " [2.500000e+04 4.545450e+02]\n",
      " [3.500000e+04 4.285710e+02]\n",
      " [2.200000e+04 7.333330e+02]\n",
      " [3.000000e+04 4.838710e+02]\n",
      " [2.800000e+04 2.625000e+02]\n",
      " [3.500000e+04 2.333330e+02]\n",
      " [5.000000e+04 5.000000e+02]\n",
      " [4.200000e+04 4.800000e+02]\n",
      " [2.300000e+04 1.604170e+02]\n",
      " [4.000000e+04 3.200000e+02]\n",
      " [1.800000e+04 1.750000e+02]\n",
      " [2.500000e+04 1.250000e+02]\n",
      " [7.000000e+04 8.500000e+02]\n",
      " [1.500000e+04 1.500000e+02]\n",
      " [6.000000e+04 6.206900e+02]\n",
      " [2.700000e+04 1.800000e+02]\n",
      " [3.800000e+04 2.032250e+02]\n",
      " [4.000000e+04 1.684210e+02]\n",
      " [5.000000e+04 7.777780e+02]\n",
      " [1.800000e+04 1.080000e+03]\n",
      " [2.000000e+04 2.264150e+02]\n",
      " [5.500000e+04 8.803570e+02]\n",
      " [4.000000e+04 5.517240e+02]\n",
      " [2.300000e+04 1.916670e+02]\n",
      " [5.000000e+04 5.833330e+02]\n",
      " [2.200000e+04 2.200000e+02]\n",
      " [3.500000e+04 3.088240e+02]\n",
      " [4.500000e+04 5.142860e+02]\n",
      " [6.000000e+04 8.333330e+02]\n",
      " [3.000000e+04 1.600000e+02]\n",
      " [1.800000e+04 1.800000e+02]\n",
      " [2.500000e+04 1.562500e+02]\n",
      " [4.500000e+04 3.285710e+02]\n",
      " [5.000000e+04 4.166670e+02]\n",
      " [3.500000e+04 3.250000e+02]\n",
      " [1.500000e+04 1.500000e+02]\n",
      " [5.500000e+04 2.944440e+02]\n",
      " [7.000000e+04 7.368420e+02]\n",
      " [3.500000e+04 9.333330e+02]\n",
      " [4.200000e+04 8.400000e+02]\n",
      " [3.000000e+04 4.500000e+02]\n",
      " [4.500000e+04 1.071429e+03]\n",
      " [2.000000e+04 1.370370e+02]\n",
      " [2.500000e+04 2.173910e+02]\n",
      " [1.500000e+04 1.875000e+02]\n",
      " [1.000000e+04 1.000000e+02]\n",
      " [5.500000e+04 8.461540e+02]\n",
      " [2.800000e+04 2.333330e+02]\n",
      " [3.700000e+04 4.333330e+02]\n",
      " [4.500000e+04 3.000000e+02]\n",
      " [4.000000e+04 5.538460e+02]\n",
      " [2.500000e+04 1.851850e+02]\n",
      " [6.000000e+04 6.857140e+02]\n",
      " [7.000000e+04 9.722220e+02]\n",
      " [3.000000e+04 2.400000e+02]\n",
      " [4.000000e+04 5.133330e+02]\n",
      " [1.500000e+04 1.500000e+02]\n",
      " [2.000000e+04 2.000000e+02]\n",
      " [2.200000e+04 2.066670e+02]\n",
      " [2.500000e+04 1.416670e+02]\n",
      " [3.500000e+04 2.333330e+02]\n",
      " [5.000000e+04 3.666670e+02]\n",
      " [1.500000e+04 1.500000e+02]]\n"
     ]
    }
   ],
   "source": [
    "print(X)"
   ]
  },
  {
   "cell_type": "markdown",
   "metadata": {
    "id": "LUHCVZWVNVb5"
   },
   "source": [
    "Choosing the number of clusters"
   ]
  },
  {
   "cell_type": "markdown",
   "metadata": {
    "id": "25tFwgnZNiRF"
   },
   "source": [
    "WCSS  ->  Within Clusters Sum of Squares"
   ]
  },
  {
   "cell_type": "code",
   "execution_count": 93,
   "metadata": {
    "id": "LywIm4NDNIG1"
   },
   "outputs": [],
   "source": [
    "# finding wcss value for different number of clusters\n",
    "\n",
    "wcss = []\n",
    "\n",
    "for i in range(1,11):\n",
    "  kmeans = KMeans(n_clusters=i, init='k-means++', random_state=42)\n",
    "  kmeans.fit(X)\n",
    "\n",
    "  wcss.append(kmeans.inertia_)"
   ]
  },
  {
   "cell_type": "code",
   "execution_count": 94,
   "metadata": {
    "colab": {
     "base_uri": "https://localhost:8080/",
     "height": 301
    },
    "id": "1rWLIgxJPXI_",
    "outputId": "fabdc714-dcc6-465d-d84d-fc8d65b8c5dc"
   },
   "outputs": [
    {
     "data": {
      "image/png": "[encoded data removed]",
      "text/plain": [
       "<Figure size 640x480 with 1 Axes>"
      ]
     },
     "metadata": {},
     "output_type": "display_data"
    }
   ],
   "source": [
    "# plot an elbow graph\n",
    "\n",
    "sns.set()\n",
    "plt.plot(range(1,11), wcss)\n",
    "plt.title('The Elbow Point Graph')\n",
    "plt.xlabel('Number of Clusters')\n",
    "plt.ylabel('WCSS')\n",
    "plt.show()"
   ]
  },
  {
   "cell_type": "markdown",
   "metadata": {
    "id": "ifedd9_gQC4x"
   },
   "source": [
    "Optimum Number of Clusters = 5"
   ]
  },
  {
   "cell_type": "markdown",
   "metadata": {
    "id": "J3DiuWPtQKnU"
   },
   "source": [
    "Training the k-Means Clustering Model"
   ]
  },
  {
   "cell_type": "code",
   "execution_count": 95,
   "metadata": {
    "colab": {
     "base_uri": "https://localhost:8080/"
    },
    "id": "-5S3HwLpPy3h",
    "outputId": "4d008806-2579-4c85-8b65-d53f10f13191"
   },
   "outputs": [
    {
     "name": "stdout",
     "output_type": "stream",
     "text": [
      "[0 0 0 0 0 0 0 0 0 0 0 0 0 0 0 0 0 0 2 0 2 2 4 0 0 0 0 0 0 0 0 0 0 0 0 0 0\n",
      " 0 0 0 0 0 0 0 0 0 0 0 0 0 0 0 0 0 0 0 0 0 0 0 0 0 0 0 0 0 0 0 0 0 0 0 0 0\n",
      " 0 0 0 0 0 0 0 0 0 0 0 0 0 0 0 0 0 0 0 0 0 0 0 0 0 0 0 0 0 0 0 0 0 0 0 0 0\n",
      " 0 0 0 0 0 0 0 0 0 0 0 0 0 0 0 0 0 0 0 0 0 0 0 0 0 0 0 0 0 0 0 0 0 0 0 0 0\n",
      " 0 0 0 0 0 0 0 0 0 0 0 0 0 0 0 0 0 0 0 0 0 0 0 0 0 0 0 0 0 0 0 0 0 0 0 0 0\n",
      " 0 0 0 0 0 0 0 0 0 0 0 0 0 0 0 0 0 0 0 0 0 0 0 0 0 0 0 0 0 0 0 0 0 0 4 3 4\n",
      " 2 2 4 3 0 4 1 0 0 4 4 0 2 2 0 0 0 2 4 4 4 0 0 0 0 0 0 0 0 0 0 0 0 0 0 0 0\n",
      " 0 0 0 0 0 0 0 0 0 0 0 0 0 0 0 0 0 4 0 0 0 0 0 0 0 0 0 0 0 0 0 0 0 0 0 0 0\n",
      " 0 0 0 0 0 0 0 0 0 0 0 0 0 0 0 0 0 0 0 0 0 0 0 0 0 0 0 0 0 0 0 0 0 0 0 0 0\n",
      " 0 0 0 0 0 0 0 0 0 0 0 0 0 0 0 0 0 0 0 0 0 0 0 0 0 0 0 0 0 0 0 0 0 0 0 0 0\n",
      " 0 0 0 0 0 0 0 0 0 0 0 0 0 0 0 0 0 0 0 0 0 0 0 0 0 0 0 0 0 0 0 0 0 0 0 0 0\n",
      " 0 0 0 0 0 0 0 0 0 0 0 0 0 0 0 0 0 0 0 0 0 0 0 0 0 0 0 0 0 0 0 0 0 0 0 0 0\n",
      " 0 0 0 0 0]\n"
     ]
    }
   ],
   "source": [
    "kmeans = KMeans(n_clusters=5, init='k-means++', random_state=0)\n",
    "\n",
    "# return a label for each data point based on their cluster\n",
    "Y = kmeans.fit_predict(X)\n",
    "\n",
    "print(Y)"
   ]
  },
  {
   "cell_type": "markdown",
   "metadata": {
    "id": "ehXD5VrDSyuB"
   },
   "source": [
    "5 Clusters -  0, 1, 2, 3, 4"
   ]
  },
  {
   "cell_type": "markdown",
   "metadata": {
    "id": "AfFa2VDQRNcK"
   },
   "source": [
    "Visualizing all the Clusters"
   ]
  },
  {
   "cell_type": "code",
   "execution_count": 96,
   "metadata": {
    "colab": {
     "base_uri": "https://localhost:8080/",
     "height": 518
    },
    "id": "Tl_Obm0aQ_cU",
    "outputId": "9e554efe-7307-4f24-bbda-7fded2ce0616"
   },
   "outputs": [
    {
     "data": {
      "image/png": "[encoded data removed]",
      "text/plain": [
       "<Figure size 800x800 with 1 Axes>"
      ]
     },
     "metadata": {},
     "output_type": "display_data"
    }
   ],
   "source": [
    "# plotting all the clusters and their Centroids\n",
    "\n",
    "plt.figure(figsize=(8,8))\n",
    "plt.scatter(X[Y==0,0], X[Y==0,1], s=50, c='green', label='Cluster 1')\n",
    "plt.scatter(X[Y==1,0], X[Y==1,1], s=50, c='red', label='Cluster 2')\n",
    "plt.scatter(X[Y==2,0], X[Y==2,1], s=50, c='yellow', label='Cluster 3')\n",
    "plt.scatter(X[Y==3,0], X[Y==3,1], s=50, c='violet', label='Cluster 4')\n",
    "plt.scatter(X[Y==4,0], X[Y==4,1], s=50, c='blue', label='Cluster 5')\n",
    "\n",
    "# plot the centroids\n",
    "plt.scatter(kmeans.cluster_centers_[:,0], kmeans.cluster_centers_[:,1], s=100, c='cyan', label='Centroids')\n",
    "\n",
    "plt.title('Customer Groups')\n",
    "plt.xlabel('Average Amount Spent')\n",
    "plt.ylabel('Spending Score')\n",
    "plt.show()"
   ]
  },
  {
   "cell_type": "code",
   "execution_count": null,
   "metadata": {
    "id": "OjWc3GPiUFBm"
   },
   "outputs": [],
   "source": []
  }
 ],
 "metadata": {
  "colab": {
   "provenance": []
  },
  "kernelspec": {
   "display_name": "Python 3",
   "language": "python",
   "name": "python3"
  },
  "language_info": {
   "codemirror_mode": {
    "name": "ipython",
    "version": 3
   },
   "file_extension": ".py",
   "mimetype": "text/x-python",
   "name": "python",
   "nbconvert_exporter": "python",
   "pygments_lexer": "ipython3",
   "version": "3.10.0"
  }
 },
 "nbformat": 4,
 "nbformat_minor": 4
}
